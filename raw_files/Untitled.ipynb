{
 "cells": [
  {
   "cell_type": "code",
   "execution_count": 3,
   "id": "5278cd02-d0b9-44ac-986b-5255a57e7400",
   "metadata": {},
   "outputs": [],
   "source": [
    "import pandas as pd"
   ]
  },
  {
   "cell_type": "code",
   "execution_count": 2,
   "id": "3f8868e3-305d-4a1c-894e-939596b68e76",
   "metadata": {},
   "outputs": [
    {
     "name": "stdout",
     "output_type": "stream",
     "text": [
      "Collecting pandas\n",
      "  Downloading pandas-2.2.3-cp312-cp312-win_amd64.whl.metadata (19 kB)\n",
      "Requirement already satisfied: numpy>=1.26.0 in c:\\users\\bala\\appdata\\local\\programs\\python\\python312\\lib\\site-packages (from pandas) (1.26.4)\n",
      "Requirement already satisfied: python-dateutil>=2.8.2 in c:\\users\\bala\\appdata\\local\\programs\\python\\python312\\lib\\site-packages (from pandas) (2.9.0.post0)\n",
      "Collecting pytz>=2020.1 (from pandas)\n",
      "  Using cached pytz-2024.2-py2.py3-none-any.whl.metadata (22 kB)\n",
      "Collecting tzdata>=2022.7 (from pandas)\n",
      "  Using cached tzdata-2024.1-py2.py3-none-any.whl.metadata (1.4 kB)\n",
      "Requirement already satisfied: six>=1.5 in c:\\users\\bala\\appdata\\local\\programs\\python\\python312\\lib\\site-packages (from python-dateutil>=2.8.2->pandas) (1.16.0)\n",
      "Downloading pandas-2.2.3-cp312-cp312-win_amd64.whl (11.5 MB)\n",
      "   ---------------------------------------- 0.0/11.5 MB ? eta -:--:--\n",
      "   ---------------------------------------- 0.0/11.5 MB 1.3 MB/s eta 0:00:09\n",
      "   - -------------------------------------- 0.3/11.5 MB 4.1 MB/s eta 0:00:03\n",
      "   -- ------------------------------------- 0.8/11.5 MB 6.6 MB/s eta 0:00:02\n",
      "   ---- ----------------------------------- 1.4/11.5 MB 8.2 MB/s eta 0:00:02\n",
      "   ------ --------------------------------- 1.8/11.5 MB 8.3 MB/s eta 0:00:02\n",
      "   ------- -------------------------------- 2.2/11.5 MB 8.2 MB/s eta 0:00:02\n",
      "   --------- ------------------------------ 2.8/11.5 MB 9.3 MB/s eta 0:00:01\n",
      "   ------------ --------------------------- 3.5/11.5 MB 9.2 MB/s eta 0:00:01\n",
      "   ------------- -------------------------- 3.9/11.5 MB 9.2 MB/s eta 0:00:01\n",
      "   --------------- ------------------------ 4.6/11.5 MB 9.7 MB/s eta 0:00:01\n",
      "   ----------------- ---------------------- 5.1/11.5 MB 9.8 MB/s eta 0:00:01\n",
      "   -------------------- ------------------- 5.9/11.5 MB 10.4 MB/s eta 0:00:01\n",
      "   ---------------------- ----------------- 6.6/11.5 MB 10.7 MB/s eta 0:00:01\n",
      "   ------------------------- -------------- 7.3/11.5 MB 11.1 MB/s eta 0:00:01\n",
      "   --------------------------- ------------ 8.0/11.5 MB 11.3 MB/s eta 0:00:01\n",
      "   ------------------------------ --------- 8.6/11.5 MB 11.5 MB/s eta 0:00:01\n",
      "   -------------------------------- ------- 9.4/11.5 MB 11.5 MB/s eta 0:00:01\n",
      "   ----------------------------------- ---- 10.1/11.5 MB 12.0 MB/s eta 0:00:01\n",
      "   ------------------------------------- -- 10.7/11.5 MB 12.8 MB/s eta 0:00:01\n",
      "   -------------------------------------- - 11.2/11.5 MB 13.1 MB/s eta 0:00:01\n",
      "   ---------------------------------------  11.5/11.5 MB 12.6 MB/s eta 0:00:01\n",
      "   ---------------------------------------  11.5/11.5 MB 12.6 MB/s eta 0:00:01\n",
      "   ---------------------------------------- 11.5/11.5 MB 11.7 MB/s eta 0:00:00\n",
      "Using cached pytz-2024.2-py2.py3-none-any.whl (508 kB)\n",
      "Using cached tzdata-2024.1-py2.py3-none-any.whl (345 kB)\n",
      "Installing collected packages: pytz, tzdata, pandas\n",
      "Successfully installed pandas-2.2.3 pytz-2024.2 tzdata-2024.1\n",
      "Note: you may need to restart the kernel to use updated packages.\n"
     ]
    },
    {
     "name": "stderr",
     "output_type": "stream",
     "text": [
      "\n",
      "[notice] A new release of pip is available: 24.0 -> 24.2\n",
      "[notice] To update, run: python.exe -m pip install --upgrade pip\n"
     ]
    }
   ],
   "source": [
    "pip install pandas"
   ]
  },
  {
   "cell_type": "code",
   "execution_count": 5,
   "id": "87dfdebb-e10d-41c9-baf2-e00678933aa6",
   "metadata": {},
   "outputs": [],
   "source": [
    "df =pd.read_csv(r'restaurant_info.csv')"
   ]
  },
  {
   "cell_type": "code",
   "execution_count": 6,
   "id": "15fc38fb-c913-485a-ae4e-9753ec99a942",
   "metadata": {},
   "outputs": [],
   "source": [
    "df.to_csv('rest_info.csv',index=False)"
   ]
  },
  {
   "cell_type": "code",
   "execution_count": null,
   "id": "5cd20bbe-b830-40a3-8a55-08d9a09eeaba",
   "metadata": {},
   "outputs": [],
   "source": []
  }
 ],
 "metadata": {
  "kernelspec": {
   "display_name": "Python 3 (ipykernel)",
   "language": "python",
   "name": "python3"
  },
  "language_info": {
   "codemirror_mode": {
    "name": "ipython",
    "version": 3
   },
   "file_extension": ".py",
   "mimetype": "text/x-python",
   "name": "python",
   "nbconvert_exporter": "python",
   "pygments_lexer": "ipython3",
   "version": "3.12.3"
  }
 },
 "nbformat": 4,
 "nbformat_minor": 5
}
